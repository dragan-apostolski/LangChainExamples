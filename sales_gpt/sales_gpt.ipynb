{
 "cells": [
  {
   "cell_type": "markdown",
   "source": [
    "# Photography lenses sales agent"
   ],
   "metadata": {
    "collapsed": false
   }
  },
  {
   "cell_type": "markdown",
   "source": [
    "## Part 1: Preprocessing\n",
    "\n",
    "In the first part we are going to preprocess our data by splitting into chunks, and then we are going to store it in a vector database. We are going to use the OpenAI embeddings, and the Chroma vector store."
   ],
   "metadata": {
    "collapsed": false
   }
  },
  {
   "cell_type": "code",
   "execution_count": 1,
   "metadata": {
    "collapsed": true,
    "ExecuteTime": {
     "end_time": "2023-05-31T14:54:42.891349Z",
     "start_time": "2023-05-31T14:54:42.881943Z"
    }
   },
   "outputs": [],
   "source": [
    "import os\n",
    "\n",
    "os.environ[\"OPENAI_API_KEY\"] = \"\""
   ]
  },
  {
   "cell_type": "markdown",
   "source": [
    "The first we have to do is preprocess our product data, and store it in a vector database. The product data is a json file (lenses.json), and each object contains information about a camera lens: its name, price, shipping time, warranty, some technical specs, and a description."
   ],
   "metadata": {
    "collapsed": false
   }
  },
  {
   "cell_type": "code",
   "execution_count": 2,
   "outputs": [],
   "source": [
    "import json\n",
    "\n",
    "from langchain.text_splitter import CharacterTextSplitter\n",
    "\n",
    "splitter = CharacterTextSplitter(\n",
    "  chunk_size=500,\n",
    "  chunk_overlap=50,\n",
    "  separator=\"},\"\n",
    ")\n",
    "\n",
    "with open(\"lenses.json\", \"r\") as f:\n",
    "    lenses_data = json.loads(f.read())\n",
    "\n",
    "lenses = splitter.create_documents([str(lenses_data)])"
   ],
   "metadata": {
    "collapsed": false,
    "ExecuteTime": {
     "end_time": "2023-05-31T14:54:44.411059Z",
     "start_time": "2023-05-31T14:54:42.887116Z"
    }
   }
  },
  {
   "cell_type": "markdown",
   "source": [
    "We can see that the data has been split in 20 different documents, and this is exactly the number of products we have in our json file. Choosing a chunk_size of 500 and a separator of \"},\" helped here, as each product object is approximately 500 characters long, and the separator is the end of a product object."
   ],
   "metadata": {
    "collapsed": false
   }
  },
  {
   "cell_type": "code",
   "execution_count": 3,
   "outputs": [
    {
     "name": "stdout",
     "output_type": "stream",
     "text": [
      "20\n",
      "page_content=\"[{'name': 'Orion 24mm f/1.4 Wide-Angle Lens', 'price': 749, 'shipping_time': '3-5 business days', 'warranty': '2 years', 'technical_details': '24mm focal length, f/1.4 maximum aperture, manual focus', 'info': 'The Orion 24mm f/1.4 Wide-Angle Lens is perfect for landscape and astrophotography. Its wide-angle view captures expansive scenes, and the fast f/1.4 aperture performs well in low light.'\" metadata={}\n"
     ]
    }
   ],
   "source": [
    "print(len(lenses))\n",
    "print(lenses[0])"
   ],
   "metadata": {
    "collapsed": false,
    "ExecuteTime": {
     "end_time": "2023-05-31T14:54:44.414044Z",
     "start_time": "2023-05-31T14:54:44.410142Z"
    }
   }
  },
  {
   "cell_type": "code",
   "execution_count": 4,
   "outputs": [
    {
     "data": {
      "text/plain": "Document(page_content='{\\'name\\': \\'ProFocus 135mm f/2 Portrait Lens\\', \\'price\\': 949, \\'shipping_time\\': \\'3-5 business days\\', \\'warranty\\': \\'2 years\\', \\'technical_details\\': \\'135mm focal length, f/2 maximum aperture, autofocus\\', \\'info\\': \"The ProFocus 135mm f/2 Portrait Lens provides a longer focal length for portrait photography, delivering a high level of clarity and detail while maintaining a pleasing background blur. It\\'s ideal for outdoor portraits and studio work.\"', metadata={})"
     },
     "execution_count": 4,
     "metadata": {},
     "output_type": "execute_result"
    }
   ],
   "source": [
    "lenses[5]"
   ],
   "metadata": {
    "collapsed": false,
    "ExecuteTime": {
     "end_time": "2023-05-31T14:54:44.418029Z",
     "start_time": "2023-05-31T14:54:44.413483Z"
    }
   }
  },
  {
   "cell_type": "markdown",
   "source": [
    "Now we can create a vector database, and store our documents in it."
   ],
   "metadata": {
    "collapsed": false
   }
  },
  {
   "cell_type": "code",
   "execution_count": 5,
   "outputs": [
    {
     "name": "stderr",
     "output_type": "stream",
     "text": [
      "Using embedded DuckDB without persistence: data will be transient\n",
      "No embedding_function provided, using default embedding function: SentenceTransformerEmbeddingFunction\n"
     ]
    }
   ],
   "source": [
    "from langchain.embeddings import OpenAIEmbeddings\n",
    "from langchain.vectorstores import Chroma\n",
    "\n",
    "embeddings = OpenAIEmbeddings()\n",
    "lenses_data = Chroma.from_documents(lenses, embeddings=embeddings, collection_name=\"lenses\")"
   ],
   "metadata": {
    "collapsed": false,
    "ExecuteTime": {
     "end_time": "2023-05-31T14:55:04.388267Z",
     "start_time": "2023-05-31T14:54:44.420070Z"
    }
   }
  },
  {
   "cell_type": "markdown",
   "source": [
    "## Part 2: Creating the retrieval model"
   ],
   "metadata": {
    "collapsed": false
   }
  },
  {
   "cell_type": "code",
   "execution_count": 9,
   "outputs": [],
   "source": [
    "from langchain.llms import OpenAI\n",
    "from langchain.chains import ConversationalRetrievalChain"
   ],
   "metadata": {
    "collapsed": false
   }
  },
  {
   "cell_type": "code",
   "execution_count": 7,
   "outputs": [],
   "source": [
    "from langchain.memory import ConversationBufferMemory\n",
    "memory = ConversationBufferMemory(memory_key=\"chat_history\", return_messages=True)"
   ],
   "metadata": {
    "collapsed": false,
    "ExecuteTime": {
     "end_time": "2023-05-31T14:55:04.394404Z",
     "start_time": "2023-05-31T14:55:04.391908Z"
    }
   }
  },
  {
   "cell_type": "code",
   "execution_count": 10,
   "outputs": [],
   "source": [
    "qa = ConversationalRetrievalChain.from_llm(OpenAI(temperature=0), lenses_data.as_retriever(), memory=memory)"
   ],
   "metadata": {
    "collapsed": false,
    "ExecuteTime": {
     "end_time": "2023-05-31T14:55:50.254051Z",
     "start_time": "2023-05-31T14:55:50.249010Z"
    }
   }
  },
  {
   "cell_type": "code",
   "execution_count": 12,
   "outputs": [
    {
     "data": {
      "text/plain": "{'question': 'What lenses do you recommend for landscapes?',\n 'chat_history': [HumanMessage(content='What lenses do you have in store?', additional_kwargs={}, example=False),\n  AIMessage(content=' We have the EagleEye 100mm f/2.8 Macro Lens, the EagleEye 60mm f/2.8 Macro Lens, the Orion 50mm f/1.4 Standard Lens, and the EagleEye 50mm f/2.8 Compact Macro Lens.', additional_kwargs={}, example=False),\n  HumanMessage(content='What lenses do you recommend for landscapes?', additional_kwargs={}, example=False),\n  AIMessage(content=' I would recommend the ZoomMaster 18-35mm f/1.8 Wide Zoom Lens, the WideMaster 10mm f/4 Ultra-Wide Angle Lens, the Orion 24mm f/1.4 Wide-Angle Lens, and the WideMaster 20mm f/1.8 Wide-Angle Lens. All of these lenses have wide-angle views and fast maximum apertures that are ideal for landscape photography.', additional_kwargs={}, example=False)],\n 'answer': ' I would recommend the ZoomMaster 18-35mm f/1.8 Wide Zoom Lens, the WideMaster 10mm f/4 Ultra-Wide Angle Lens, the Orion 24mm f/1.4 Wide-Angle Lens, and the WideMaster 20mm f/1.8 Wide-Angle Lens. All of these lenses have wide-angle views and fast maximum apertures that are ideal for landscape photography.'}"
     },
     "execution_count": 12,
     "metadata": {},
     "output_type": "execute_result"
    }
   ],
   "source": [
    "qa(\"What lenses do you recommend for landscapes?\")"
   ],
   "metadata": {
    "collapsed": false,
    "ExecuteTime": {
     "end_time": "2023-05-31T15:28:10.521184Z",
     "start_time": "2023-05-31T15:27:59.510279Z"
    }
   }
  },
  {
   "cell_type": "code",
   "execution_count": 13,
   "outputs": [
    {
     "data": {
      "text/plain": "' I recommend the ProFocus 105mm f/2 Portrait Lens, ProFocus 135mm f/2 Portrait Lens, and ProFocus 200mm f/2.8 Portrait Lens for portraits. The EagleEye 60mm f/2.8 Macro Lens is also suitable for portraits due to its flattering perspective.'"
     },
     "execution_count": 13,
     "metadata": {},
     "output_type": "execute_result"
    }
   ],
   "source": [
    "qa(\"And for portraits\")['answer']"
   ],
   "metadata": {
    "collapsed": false,
    "ExecuteTime": {
     "end_time": "2023-05-31T15:29:35.100824Z",
     "start_time": "2023-05-31T15:29:24.285004Z"
    }
   }
  }
 ],
 "metadata": {
  "kernelspec": {
   "display_name": "Python 3",
   "language": "python",
   "name": "python3"
  },
  "language_info": {
   "codemirror_mode": {
    "name": "ipython",
    "version": 2
   },
   "file_extension": ".py",
   "mimetype": "text/x-python",
   "name": "python",
   "nbconvert_exporter": "python",
   "pygments_lexer": "ipython2",
   "version": "2.7.6"
  }
 },
 "nbformat": 4,
 "nbformat_minor": 0
}
