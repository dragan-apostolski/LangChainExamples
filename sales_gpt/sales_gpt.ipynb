{
 "cells": [
  {
   "cell_type": "markdown",
   "source": [
    "# Photography lenses sales agent"
   ],
   "metadata": {
    "collapsed": false
   }
  },
  {
   "cell_type": "markdown",
   "source": [
    "## Part 1: Preprocessing\n",
    "\n",
    "In the first part we are going to preprocess our data by splitting into chunks, and then we are going to store it in a vector database. We are going to use the OpenAI embeddings, and the Chroma vector store."
   ],
   "metadata": {
    "collapsed": false
   }
  },
  {
   "cell_type": "code",
   "execution_count": 13,
   "metadata": {
    "collapsed": true,
    "ExecuteTime": {
     "end_time": "2023-06-05T08:44:38.596319Z",
     "start_time": "2023-06-05T08:44:38.570277Z"
    }
   },
   "outputs": [],
   "source": [
    "import os\n",
    "from authentication import get_open_ai_api_key\n",
    "\n",
    "os.environ[\"OPENAI_API_KEY\"] = get_open_ai_api_key()"
   ]
  },
  {
   "cell_type": "markdown",
   "source": [
    "The first we have to do is preprocess our product data, and store it in a vector database. The product data is a json file (lenses.json), and each object contains information about a camera lens: its name, price, shipping time, warranty, some technical specs, and a description."
   ],
   "metadata": {
    "collapsed": false
   }
  },
  {
   "cell_type": "code",
   "execution_count": 2,
   "outputs": [
    {
     "name": "stderr",
     "output_type": "stream",
     "text": [
      "Created a chunk of size 577, which is longer than the specified 500\n",
      "Created a chunk of size 507, which is longer than the specified 500\n",
      "Created a chunk of size 568, which is longer than the specified 500\n",
      "Created a chunk of size 548, which is longer than the specified 500\n",
      "Created a chunk of size 570, which is longer than the specified 500\n",
      "Created a chunk of size 504, which is longer than the specified 500\n",
      "Created a chunk of size 513, which is longer than the specified 500\n",
      "Created a chunk of size 549, which is longer than the specified 500\n",
      "Created a chunk of size 576, which is longer than the specified 500\n",
      "Created a chunk of size 518, which is longer than the specified 500\n",
      "Created a chunk of size 572, which is longer than the specified 500\n"
     ]
    }
   ],
   "source": [
    "import json\n",
    "\n",
    "from langchain.text_splitter import CharacterTextSplitter\n",
    "\n",
    "splitter = CharacterTextSplitter(\n",
    "  chunk_size=500,\n",
    "  chunk_overlap=50,\n",
    "  separator=\"},\"\n",
    ")\n",
    "\n",
    "with open(\"lenses.json\", \"r\") as f:\n",
    "    lenses_data = json.loads(f.read())\n",
    "\n",
    "lenses = splitter.create_documents([str(lenses_data)])"
   ],
   "metadata": {
    "collapsed": false,
    "ExecuteTime": {
     "end_time": "2023-06-04T10:00:41.064801Z",
     "start_time": "2023-06-04T10:00:39.656556Z"
    }
   }
  },
  {
   "cell_type": "markdown",
   "source": [
    "We can see that the data has been split in 20 different documents, and this is exactly the number of products we have in our json file. Choosing a chunk_size of 500 and a separator of \"},\" helped here, as each product object is approximately 500 characters long, and the separator is the end of a product object."
   ],
   "metadata": {
    "collapsed": false
   }
  },
  {
   "cell_type": "code",
   "execution_count": 3,
   "outputs": [
    {
     "name": "stdout",
     "output_type": "stream",
     "text": [
      "20\n",
      "page_content=\"[{'name': 'Orion 24mm f/1.4 Wide-Angle Lens', 'price': 749, 'shipping_time': '3-5 business days', 'warranty': '2 years', 'technical_details': '24mm focal length, f/1.4 maximum aperture, manual focus', 'info': 'The Orion 24mm f/1.4 Wide-Angle Lens is perfect for landscape and astrophotography. Its wide-angle view captures expansive scenes, and the fast f/1.4 aperture performs well in low light.'\" metadata={}\n"
     ]
    }
   ],
   "source": [
    "print(len(lenses))\n",
    "print(lenses[0])"
   ],
   "metadata": {
    "collapsed": false,
    "ExecuteTime": {
     "end_time": "2023-05-31T14:54:44.414044Z",
     "start_time": "2023-05-31T14:54:44.410142Z"
    }
   }
  },
  {
   "cell_type": "code",
   "execution_count": 3,
   "outputs": [
    {
     "data": {
      "text/plain": "Document(page_content=\"{'name': 'Panasonic Lumix G Leica DG Nocticron 42.5mm f/1.2 Lens', 'price': 1597, 'shipping_time': '3-5 business days', 'warranty': '2 years', 'technical_details': '42.5mm focal length, f/1.2 maximum aperture, Power O.I.S. stabilization', 'info': 'The Panasonic Lumix G Leica DG Nocticron 42.5mm f/1.2 is a prime lens that offers a fast maximum aperture and is perfect for portraiture with its smooth out-of-focus quality when working with shallow depth of field techniques.', 'compatible_with': ['Panasonic Lumix DC-GH5 II', 'Panasonic Lumix DC-G9', 'Panasonic Lumix DC-GX9']\", metadata={})"
     },
     "execution_count": 3,
     "metadata": {},
     "output_type": "execute_result"
    }
   ],
   "source": [
    "lenses[5]"
   ],
   "metadata": {
    "collapsed": false,
    "ExecuteTime": {
     "end_time": "2023-06-04T10:00:52.784344Z",
     "start_time": "2023-06-04T10:00:52.781089Z"
    }
   }
  },
  {
   "cell_type": "markdown",
   "source": [
    "Now we can create a vector database, and store our documents in it."
   ],
   "metadata": {
    "collapsed": false
   }
  },
  {
   "cell_type": "code",
   "execution_count": 4,
   "outputs": [
    {
     "name": "stderr",
     "output_type": "stream",
     "text": [
      "Using embedded DuckDB without persistence: data will be transient\n",
      "No embedding_function provided, using default embedding function: SentenceTransformerEmbeddingFunction\n"
     ]
    }
   ],
   "source": [
    "from langchain.embeddings import OpenAIEmbeddings\n",
    "from langchain.vectorstores import Chroma\n",
    "\n",
    "embeddings = OpenAIEmbeddings()\n",
    "lenses_data = Chroma.from_documents(lenses, embeddings=embeddings, collection_name=\"lenses\")"
   ],
   "metadata": {
    "collapsed": false,
    "ExecuteTime": {
     "end_time": "2023-06-04T10:01:09.478220Z",
     "start_time": "2023-06-04T10:01:02.075002Z"
    }
   }
  },
  {
   "cell_type": "markdown",
   "source": [
    "## Part 2: Creating the retrieval model"
   ],
   "metadata": {
    "collapsed": false
   }
  },
  {
   "cell_type": "code",
   "execution_count": 5,
   "outputs": [],
   "source": [
    "from langchain.llms import OpenAI\n",
    "from langchain.chains import ConversationalRetrievalChain"
   ],
   "metadata": {
    "collapsed": false,
    "ExecuteTime": {
     "end_time": "2023-06-04T10:01:13.692093Z",
     "start_time": "2023-06-04T10:01:13.687390Z"
    }
   }
  },
  {
   "cell_type": "code",
   "execution_count": 6,
   "outputs": [],
   "source": [
    "from langchain.memory import ConversationBufferMemory\n",
    "memory = ConversationBufferMemory(memory_key=\"chat_history\", return_messages=True)"
   ],
   "metadata": {
    "collapsed": false,
    "ExecuteTime": {
     "end_time": "2023-06-04T10:01:16.336036Z",
     "start_time": "2023-06-04T10:01:16.330346Z"
    }
   }
  },
  {
   "cell_type": "code",
   "execution_count": 7,
   "outputs": [],
   "source": [
    "qa = ConversationalRetrievalChain.from_llm(OpenAI(temperature=0), lenses_data.as_retriever(), memory=memory)"
   ],
   "metadata": {
    "collapsed": false,
    "ExecuteTime": {
     "end_time": "2023-06-04T10:01:18.472109Z",
     "start_time": "2023-06-04T10:01:18.466879Z"
    }
   }
  },
  {
   "cell_type": "code",
   "execution_count": 8,
   "outputs": [
    {
     "data": {
      "text/plain": "{'question': 'What lenses do you recommend for landscapes?',\n 'chat_history': [HumanMessage(content='What lenses do you recommend for landscapes?', additional_kwargs={}, example=False),\n  AIMessage(content=' I recommend the Panasonic Lumix G X Vario 12-35mm f/2.8 II ASPH. POWER O.I.S. Lens, the Olympus M.Zuiko Digital ED 40-150mm f/2.8 PRO Lens, the Canon EF 24-70mm f/2.8L II USM Lens, and the Fujifilm XF 16-55mm f/2.8 R LM WR Lens. All of these lenses cover a wide range of focal lengths, making them perfect for capturing landscapes.', additional_kwargs={}, example=False)],\n 'answer': ' I recommend the Panasonic Lumix G X Vario 12-35mm f/2.8 II ASPH. POWER O.I.S. Lens, the Olympus M.Zuiko Digital ED 40-150mm f/2.8 PRO Lens, the Canon EF 24-70mm f/2.8L II USM Lens, and the Fujifilm XF 16-55mm f/2.8 R LM WR Lens. All of these lenses cover a wide range of focal lengths, making them perfect for capturing landscapes.'}"
     },
     "execution_count": 8,
     "metadata": {},
     "output_type": "execute_result"
    }
   ],
   "source": [
    "qa(\"What lenses do you recommend for landscapes?\")"
   ],
   "metadata": {
    "collapsed": false,
    "ExecuteTime": {
     "end_time": "2023-06-04T10:01:30.574348Z",
     "start_time": "2023-06-04T10:01:22.539302Z"
    }
   }
  },
  {
   "cell_type": "code",
   "execution_count": 9,
   "outputs": [
    {
     "data": {
      "text/plain": "' I recommend the Olympus M.Zuiko Digital ED 40-150mm f/2.8 PRO Lens, the Panasonic Lumix G Leica DG Nocticron 42.5mm f/1.2 Lens, and the Canon EF 24-70mm f/2.8L II USM Lens. All of these lenses are perfect for portraits with their fast maximum apertures and versatile focal lengths.'"
     },
     "execution_count": 9,
     "metadata": {},
     "output_type": "execute_result"
    }
   ],
   "source": [
    "qa(\"And for portraits\")['answer']"
   ],
   "metadata": {
    "collapsed": false,
    "ExecuteTime": {
     "end_time": "2023-06-04T10:04:25.051568Z",
     "start_time": "2023-06-04T10:04:15.495229Z"
    }
   }
  },
  {
   "cell_type": "code",
   "execution_count": 12,
   "outputs": [
    {
     "data": {
      "text/plain": "' The Canon EF 24-70mm f/2.8L II USM Lens and the Canon EF 85mm f/1.2L II USM Lens are both compatible with Canon cameras and are within the $1000-$2000 budget.'"
     },
     "execution_count": 12,
     "metadata": {},
     "output_type": "execute_result"
    }
   ],
   "source": [
    "qa(\"Now recommend me some lenses within the $1000-$2000 budget, compatible with Canon\")[\"answer\"]"
   ],
   "metadata": {
    "collapsed": false,
    "ExecuteTime": {
     "end_time": "2023-06-04T10:12:10.634854Z",
     "start_time": "2023-06-04T10:12:05.603851Z"
    }
   }
  }
 ],
 "metadata": {
  "kernelspec": {
   "display_name": "Python 3",
   "language": "python",
   "name": "python3"
  },
  "language_info": {
   "codemirror_mode": {
    "name": "ipython",
    "version": 2
   },
   "file_extension": ".py",
   "mimetype": "text/x-python",
   "name": "python",
   "nbconvert_exporter": "python",
   "pygments_lexer": "ipython2",
   "version": "2.7.6"
  }
 },
 "nbformat": 4,
 "nbformat_minor": 0
}
