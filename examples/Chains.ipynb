{
 "cells": [
  {
   "cell_type": "markdown",
   "source": [
    "# Chains\n",
    "\n",
    "While LLMs can be used in isolation for simple applications, larger applications require the use of chains. Chains allow us to combine multiple components together to create a single, coherent applications."
   ],
   "metadata": {
    "collapsed": false
   }
  },
  {
   "cell_type": "code",
   "execution_count": 2,
   "outputs": [],
   "source": [
    "from langchain.prompts import PromptTemplate\n",
    "from langchain.llms import OpenAI\n",
    "\n",
    "llm = OpenAI(temperature=0.9)\n",
    "prompt = PromptTemplate(\n",
    "    input_variables=[\"product\"],\n",
    "    template=\"What is a good name for a company that makes {product}?\",\n",
    ")"
   ],
   "metadata": {
    "collapsed": false,
    "ExecuteTime": {
     "end_time": "2023-05-03T14:23:16.476394Z",
     "start_time": "2023-05-03T14:23:09.668336Z"
    }
   }
  },
  {
   "cell_type": "code",
   "execution_count": 3,
   "outputs": [
    {
     "name": "stdout",
     "output_type": "stream",
     "text": [
      "\n",
      "\n",
      "Vivid Socks Co.\n"
     ]
    }
   ],
   "source": [
    "from langchain.chains import LLMChain\n",
    "chain = LLMChain(llm=llm, prompt=prompt)\n",
    "\n",
    "# Run the chain only specifying the input variable.\n",
    "print(chain.run(\"colorful socks\"))"
   ],
   "metadata": {
    "collapsed": false,
    "ExecuteTime": {
     "end_time": "2023-05-03T14:35:49.599843Z",
     "start_time": "2023-05-03T14:35:48.043682Z"
    }
   }
  },
  {
   "cell_type": "markdown",
   "source": [
    "## Add memory to chains\n",
    "\n",
    "Chain supports taking a BaseMemory object as its memory argument, allowing Chain object to persist data across multiple calls. In other words, it makes Chain a stateful object."
   ],
   "metadata": {
    "collapsed": false
   }
  },
  {
   "cell_type": "code",
   "execution_count": 7,
   "outputs": [
    {
     "name": "stdout",
     "output_type": "stream",
     "text": [
      "\n",
      "\n",
      "\u001B[1m> Entering new ConversationChain chain...\u001B[0m\n",
      "Prompt after formatting:\n",
      "\u001B[32;1m\u001B[1;3mThe following is a friendly conversation between a human and an AI. The AI is talkative and provides lots of specific details from its context. If the AI does not know the answer to a question, it truthfully says it does not know.\n",
      "\n",
      "Current conversation:\n",
      "\n",
      "Human: What is the oldest country in the world?\n",
      "AI:\u001B[0m\n",
      "\n",
      "\u001B[1m> Finished chain.\u001B[0m\n",
      "The concept of a \"country\" as we know it today did not exist in ancient times, so it is difficult to determine the oldest country in the world. However, some of the oldest continuously inhabited regions include parts of China, India, and the Middle East. Would you like me to look up more information on this topic?\n",
      "\n",
      "\n",
      "\u001B[1m> Entering new ConversationChain chain...\u001B[0m\n",
      "Prompt after formatting:\n",
      "\u001B[32;1m\u001B[1;3mThe following is a friendly conversation between a human and an AI. The AI is talkative and provides lots of specific details from its context. If the AI does not know the answer to a question, it truthfully says it does not know.\n",
      "\n",
      "Current conversation:\n",
      "Human: What is the oldest country in the world?\n",
      "AI: The concept of a \"country\" as we know it today did not exist in ancient times, so it is difficult to determine the oldest country in the world. However, some of the oldest continuously inhabited regions include parts of China, India, and the Middle East. Would you like me to look up more information on this topic?\n",
      "Human: And 4 youngest?\n",
      "AI:\u001B[0m\n",
      "\n",
      "\u001B[1m> Finished chain.\u001B[0m\n",
      "The four youngest countries in the world are South Sudan, Kosovo, Montenegro, and Serbia. South Sudan gained independence from Sudan in 2011, while Kosovo declared independence from Serbia in 2008. Montenegro and Serbia both gained independence from Yugoslavia in 2006.\n"
     ]
    }
   ],
   "source": [
    "from langchain.chains import ConversationChain\n",
    "from langchain.chat_models import ChatOpenAI\n",
    "from langchain.memory import ConversationBufferMemory\n",
    "\n",
    "chat = ChatOpenAI(temperature=0)\n",
    "\n",
    "conversation = ConversationChain(\n",
    "    llm=chat,\n",
    "    memory=ConversationBufferMemory(),\n",
    "    verbose=True,\n",
    ")\n",
    "\n",
    "print(conversation.run(\"What is the oldest country in the world?\"))\n",
    "# -> The first three colors of a rainbow are red, orange, and yellow.\n",
    "print(conversation.run(\"And 4 youngest?\"))\n",
    "# -> The next four colors of a rainbow are green, blue, indigo, and violet."
   ],
   "metadata": {
    "collapsed": false,
    "ExecuteTime": {
     "end_time": "2023-05-03T14:48:46.289027Z",
     "start_time": "2023-05-03T14:48:36.361404Z"
    }
   }
  },
  {
   "cell_type": "markdown",
   "source": [
    "# Sequential Chain\n",
    "\n",
    "Sequential chain serve for making a series of calls which are chained together. The output of the first LLM call is used as an input for the second LLM."
   ],
   "metadata": {
    "collapsed": false
   }
  },
  {
   "cell_type": "code",
   "execution_count": 8,
   "outputs": [],
   "source": [
    "second_prompt = PromptTemplate(\n",
    "    input_variables=[\"company_name\"],\n",
    "    template=\"Write a catchphrase for the following company: {company_name}\",\n",
    ")\n",
    "chain_two = LLMChain(llm=llm, prompt=second_prompt)"
   ],
   "metadata": {
    "collapsed": false,
    "ExecuteTime": {
     "end_time": "2023-05-03T14:57:09.014027Z",
     "start_time": "2023-05-03T14:57:09.008312Z"
    }
   }
  },
  {
   "cell_type": "markdown",
   "source": [
    "In the next cell we create an overall chain which uses the first created chain (for coming up with a company name for a {product}), and the second one for creating a catchphrase for the generated company name.\n",
    "We run the overall chain by passing in a value for the {product} variable, and the output of the chain is a catchphrase for the generated company name for the product."
   ],
   "metadata": {
    "collapsed": false
   }
  },
  {
   "cell_type": "code",
   "execution_count": null,
   "outputs": [],
   "source": [
    "from langchain.chains import SimpleSequentialChain\n",
    "overall_chain = SimpleSequentialChain(chains=[chain, chain_two], verbose=True)\n",
    "\n",
    "# Run the chain specifying only the input variable for the first chain.\n",
    "catchphrase = overall_chain.run(\"colorful socks\")\n",
    "print(catchphrase)"
   ],
   "metadata": {
    "collapsed": false
   }
  },
  {
   "cell_type": "markdown",
   "source": [],
   "metadata": {
    "collapsed": false
   }
  }
 ],
 "metadata": {
  "kernelspec": {
   "display_name": "Python 3",
   "language": "python",
   "name": "python3"
  },
  "language_info": {
   "codemirror_mode": {
    "name": "ipython",
    "version": 2
   },
   "file_extension": ".py",
   "mimetype": "text/x-python",
   "name": "python",
   "nbconvert_exporter": "python",
   "pygments_lexer": "ipython2",
   "version": "2.7.6"
  }
 },
 "nbformat": 4,
 "nbformat_minor": 0
}
