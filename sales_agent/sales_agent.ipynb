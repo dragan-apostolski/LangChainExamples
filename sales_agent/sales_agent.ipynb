{
 "cells": [
  {
   "cell_type": "markdown",
   "source": [
    "# Photography lenses sales agent"
   ],
   "metadata": {
    "collapsed": false
   }
  },
  {
   "cell_type": "markdown",
   "source": [
    "## Part 1: Preprocessing\n",
    "\n",
    "In the first part we are going to preprocess our data by splitting into chunks, and then we are going to store it in a vector database. We are going to use the OpenAI embeddings, and the Chroma vector store."
   ],
   "metadata": {
    "collapsed": false
   }
  },
  {
   "cell_type": "code",
   "execution_count": 1,
   "metadata": {
    "collapsed": true,
    "ExecuteTime": {
     "end_time": "2023-05-24T15:33:42.860307Z",
     "start_time": "2023-05-24T15:33:42.855628Z"
    }
   },
   "outputs": [],
   "source": [
    "import os\n",
    "\n",
    "os.environ[\"OPENAI_API_KEY\"] = \"\""
   ]
  },
  {
   "cell_type": "markdown",
   "source": [
    "The first we have to do is preprocess our product data, and store it in a vector database. The product data is a json file (lenses.json), and each object contains information about a camera lens: its name, price, shipping time, warranty, some technical specs, and a description."
   ],
   "metadata": {
    "collapsed": false
   }
  },
  {
   "cell_type": "code",
   "execution_count": null,
   "outputs": [],
   "source": [
    "import json\n",
    "\n",
    "from langchain.text_splitter import CharacterTextSplitter\n",
    "\n",
    "splitter = CharacterTextSplitter(\n",
    "  chunk_size=500,\n",
    "  chunk_overlap=50,\n",
    "  separator=\"},\"\n",
    ")\n",
    "\n",
    "with open(\"lenses.json\", \"r\") as f:\n",
    "    lenses_data = json.loads(f.read())\n",
    "\n",
    "lenses = splitter.create_documents([str(lenses_data)])"
   ],
   "metadata": {
    "collapsed": false
   }
  },
  {
   "cell_type": "markdown",
   "source": [
    "We can see that the data has been split in 20 different documents, and this is exactly the number of products we have in our json file. Choosing a chunk_size of 500 and a separator of \"},\" helped here, as each product object is approximately 500 characters long, and the separator is the end of a product object."
   ],
   "metadata": {
    "collapsed": false
   }
  },
  {
   "cell_type": "code",
   "execution_count": 4,
   "outputs": [
    {
     "name": "stdout",
     "output_type": "stream",
     "text": [
      "20\n",
      "page_content=\"[{'name': 'Orion 24mm f/1.4 Wide-Angle Lens', 'price': 749, 'shipping_time': '3-5 business days', 'warranty': '2 years', 'technical_details': '24mm focal length, f/1.4 maximum aperture, manual focus', 'info': 'The Orion 24mm f/1.4 Wide-Angle Lens is perfect for landscape and astrophotography. Its wide-angle view captures expansive scenes, and the fast f/1.4 aperture performs well in low light.'\" metadata={}\n"
     ]
    }
   ],
   "source": [
    "print(len(lenses))\n",
    "print(lenses[0])"
   ],
   "metadata": {
    "collapsed": false,
    "ExecuteTime": {
     "end_time": "2023-05-24T15:38:04.442065Z",
     "start_time": "2023-05-24T15:38:04.439706Z"
    }
   }
  },
  {
   "cell_type": "code",
   "execution_count": 63,
   "outputs": [
    {
     "data": {
      "text/plain": "Document(page_content='{\\'name\\': \\'ProFocus 135mm f/2 Portrait Lens\\', \\'price\\': 949, \\'shipping_time\\': \\'3-5 business days\\', \\'warranty\\': \\'2 years\\', \\'technical_details\\': \\'135mm focal length, f/2 maximum aperture, autofocus\\', \\'info\\': \"The ProFocus 135mm f/2 Portrait Lens provides a longer focal length for portrait photography, delivering a high level of clarity and detail while maintaining a pleasing background blur. It\\'s ideal for outdoor portraits and studio work.\"', metadata={})"
     },
     "execution_count": 63,
     "metadata": {},
     "output_type": "execute_result"
    }
   ],
   "source": [
    "lenses[5]"
   ],
   "metadata": {
    "collapsed": false,
    "ExecuteTime": {
     "end_time": "2023-05-25T18:04:54.985106Z",
     "start_time": "2023-05-25T18:04:54.984389Z"
    }
   }
  },
  {
   "cell_type": "markdown",
   "source": [
    "Now we can create a vector database, and store our documents in it."
   ],
   "metadata": {
    "collapsed": false
   }
  },
  {
   "cell_type": "code",
   "execution_count": 5,
   "outputs": [
    {
     "name": "stderr",
     "output_type": "stream",
     "text": [
      "Using embedded DuckDB without persistence: data will be transient\n",
      "No embedding_function provided, using default embedding function: SentenceTransformerEmbeddingFunction\n"
     ]
    }
   ],
   "source": [
    "from langchain.embeddings import OpenAIEmbeddings\n",
    "from langchain.vectorstores import Chroma\n",
    "\n",
    "embeddings = OpenAIEmbeddings()\n",
    "lenses_data = Chroma.from_documents(lenses, embeddings=embeddings, collection_name=\"lenses\")"
   ],
   "metadata": {
    "collapsed": false,
    "ExecuteTime": {
     "end_time": "2023-05-24T15:41:56.810839Z",
     "start_time": "2023-05-24T15:41:52.161323Z"
    }
   }
  },
  {
   "cell_type": "markdown",
   "source": [
    "## Part 2: Creating the retrieval model"
   ],
   "metadata": {
    "collapsed": false
   }
  },
  {
   "cell_type": "code",
   "execution_count": 70,
   "outputs": [],
   "source": [
    "AGENT_ROLE_PROMPT_TEMPLATE = \"\"\"\n",
    "You are a photography sales agent, helping customers choose the right camera lens for their needs.\n",
    "Your name is {agent_name}, and you work for {company_name}.\n",
    "You have high expertise and knowledge in photography and photography gear.\n",
    "Keep your responses in short length to retain the user's attention.\n",
    "\n",
    "You must respond according to the conversation history and the conversation stage that you are in, only generating one response at a time.\n",
    "\n",
    "{context}\n",
    "\n",
    "Question: {question}\n",
    "\"\"\""
   ],
   "metadata": {
    "collapsed": false,
    "ExecuteTime": {
     "end_time": "2023-05-25T18:45:24.915267Z",
     "start_time": "2023-05-25T18:45:24.912029Z"
    }
   }
  },
  {
   "cell_type": "code",
   "execution_count": 73,
   "outputs": [],
   "source": [
    "from langchain.chat_models import ChatOpenAI\n",
    "from langchain.prompts import PromptTemplate\n",
    "from langchain.chains import RetrievalQA\n",
    "\n",
    "llm = ChatOpenAI(temperature=0.5)\n",
    "\n",
    "SALES_PROMPT = PromptTemplate(\n",
    "    template=AGENT_ROLE_PROMPT_TEMPLATE,\n",
    "    input_variables=[\n",
    "       \"agent_name\", \"company_name\", \"context\", \"question\"\n",
    "    ],\n",
    ")\n",
    "sales_qa = RetrievalQA.from_chain_type(\n",
    "    llm=llm,\n",
    "    retriever=lenses_data.as_retriever(),\n",
    "    chain_type_kwargs={\"prompt\": SALES_PROMPT},\n",
    ")"
   ],
   "metadata": {
    "collapsed": false,
    "ExecuteTime": {
     "end_time": "2023-05-25T18:45:48.580458Z",
     "start_time": "2023-05-25T18:45:48.579257Z"
    }
   }
  },
  {
   "cell_type": "markdown",
   "source": [
    "### TODO: cannot pass the agent name and company name as input variables,"
   ],
   "metadata": {
    "collapsed": false
   }
  },
  {
   "cell_type": "code",
   "execution_count": null,
   "outputs": [],
   "source": [
    "sales_qa.run(query=\"What types of lenses do you recommend for landscape?\", agent_name=\"John\", company_name=\"LensCo\")"
   ],
   "metadata": {
    "collapsed": false
   }
  },
  {
   "cell_type": "code",
   "execution_count": 56,
   "outputs": [
    {
     "data": {
      "text/plain": "'My name is [Your Name] and I work as a photography sales agent at [Company Name]. How can I help you today?'"
     },
     "execution_count": 55,
     "metadata": {},
     "output_type": "execute_result"
    },
    {
     "data": {
      "text/plain": "'Hello! My name is [insert name] and I work as a photography sales agent at [insert company name]. How can I assist you today?'"
     },
     "execution_count": 56,
     "metadata": {},
     "output_type": "execute_result"
    }
   ],
   "source": [
    "sales_qa.run(query=\"What is your name and where do you work?\", agent_name=\"John\", company_name=\"LensCo\")"
   ],
   "metadata": {
    "collapsed": false
   }
  },
  {
   "cell_type": "code",
   "execution_count": 65,
   "outputs": [
    {
     "data": {
      "text/plain": "'We have the EagleEye 100mm f/2.8 Macro Lens, Orion 24mm f/1.4 Wide-Angle Lens, ProFocus 105mm f/2 Portrait Lens, and Orion 40mm f/2 Pancake Lens available. Which one are you interested in?'"
     },
     "execution_count": 65,
     "metadata": {},
     "output_type": "execute_result"
    }
   ],
   "source": [
    "sales_qa.run(query=\"List me all the lenses you have\")"
   ],
   "metadata": {
    "collapsed": false,
    "ExecuteTime": {
     "end_time": "2023-05-25T18:23:42.800379Z",
     "start_time": "2023-05-25T18:23:35.375984Z"
    }
   }
  },
  {
   "cell_type": "markdown",
   "source": [
    "## Part 3: Creating a summarization chain"
   ],
   "metadata": {
    "collapsed": false
   }
  },
  {
   "cell_type": "code",
   "execution_count": 58,
   "outputs": [],
   "source": [
    "SUMMARIZATION_PROMPT = \"\"\"\n",
    "You are the chief of staff at a photography gear company. You are in charge of answering questions regarding our products. You have high expertise and knowledge in photography and photography gear, and you have access to all details about all our products.\n",
    "\n",
    "The following is a text that contains information about all of our products:\n",
    "{context}\n",
    "\n",
    "Question: {question}\n",
    "\"\"\""
   ],
   "metadata": {
    "collapsed": false,
    "ExecuteTime": {
     "end_time": "2023-05-25T14:18:06.843595Z",
     "start_time": "2023-05-25T14:18:06.811293Z"
    }
   }
  },
  {
   "cell_type": "code",
   "execution_count": null,
   "outputs": [
    {
     "data": {
      "text/plain": "'This is a list of various lenses with different focal lengths and apertures designed for specific types of photography such as landscape, portrait, macro, and wildlife. They range in price from $399 to $1399 and come with a 2-year warranty and a shipping time of 3-5 business days. Some are manual focus while others have autofocus capabilities.'"
     },
     "execution_count": 60,
     "metadata": {},
     "output_type": "execute_result"
    },
    {
     "ename": "ValidationError",
     "evalue": "1 validation error for PromptTemplate\n__root__\n  Invalid prompt schema; check for mismatched or missing input parameters. {'context'} (type=value_error)",
     "output_type": "error",
     "traceback": [
      "\u001B[0;31m---------------------------------------------------------------------------\u001B[0m",
      "\u001B[0;31mValidationError\u001B[0m                           Traceback (most recent call last)",
      "Cell \u001B[0;32mIn[61], line 3\u001B[0m\n\u001B[1;32m      1\u001B[0m \u001B[38;5;28;01mfrom\u001B[39;00m \u001B[38;5;21;01mlangchain\u001B[39;00m\u001B[38;5;21;01m.\u001B[39;00m\u001B[38;5;21;01mchains\u001B[39;00m\u001B[38;5;21;01m.\u001B[39;00m\u001B[38;5;21;01msummarize\u001B[39;00m \u001B[38;5;28;01mimport\u001B[39;00m load_summarize_chain\n\u001B[0;32m----> 3\u001B[0m PROMPT \u001B[38;5;241m=\u001B[39m \u001B[43mPromptTemplate\u001B[49m\u001B[43m(\u001B[49m\u001B[43mtemplate\u001B[49m\u001B[38;5;241;43m=\u001B[39;49m\u001B[43mSUMMARIZATION_PROMPT\u001B[49m\u001B[43m,\u001B[49m\u001B[43m \u001B[49m\u001B[43minput_variables\u001B[49m\u001B[38;5;241;43m=\u001B[39;49m\u001B[43m[\u001B[49m\u001B[38;5;124;43m\"\u001B[39;49m\u001B[38;5;124;43mcontext\u001B[39;49m\u001B[38;5;124;43m\"\u001B[39;49m\u001B[43m]\u001B[49m\u001B[43m)\u001B[49m\n\u001B[1;32m      4\u001B[0m chain \u001B[38;5;241m=\u001B[39m load_summarize_chain(llm, chain_type\u001B[38;5;241m=\u001B[39m\u001B[38;5;124m\"\u001B[39m\u001B[38;5;124mstuff\u001B[39m\u001B[38;5;124m\"\u001B[39m, prompt\u001B[38;5;241m=\u001B[39mPROMPT)\n\u001B[1;32m      6\u001B[0m chain\u001B[38;5;241m.\u001B[39mrun(lenses)\n",
      "File \u001B[0;32m~/.virtualenvs/chatbots/lib/python3.9/site-packages/pydantic/main.py:341\u001B[0m, in \u001B[0;36mpydantic.main.BaseModel.__init__\u001B[0;34m()\u001B[0m\n",
      "\u001B[0;31mValidationError\u001B[0m: 1 validation error for PromptTemplate\n__root__\n  Invalid prompt schema; check for mismatched or missing input parameters. {'context'} (type=value_error)"
     ]
    }
   ],
   "source": [
    "from langchain.chains.summarize import load_summarize_chain\n",
    "\n",
    "PROMPT = PromptTemplate(template=SUMMARIZATION_PROMPT, input_variables=[\"context\"])\n",
    "chain = load_summarize_chain(llm, chain_type=\"stuff\", prompt=PROMPT)\n",
    "\n",
    "chain.run(lenses)"
   ],
   "metadata": {
    "collapsed": false
   }
  }
 ],
 "metadata": {
  "kernelspec": {
   "display_name": "Python 3",
   "language": "python",
   "name": "python3"
  },
  "language_info": {
   "codemirror_mode": {
    "name": "ipython",
    "version": 2
   },
   "file_extension": ".py",
   "mimetype": "text/x-python",
   "name": "python",
   "nbconvert_exporter": "python",
   "pygments_lexer": "ipython2",
   "version": "2.7.6"
  }
 },
 "nbformat": 4,
 "nbformat_minor": 0
}
