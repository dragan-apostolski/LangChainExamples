{
 "cells": [
  {
   "cell_type": "markdown",
   "source": [
    "# Sales Agent\n",
    "\n",
    "This notebook demonstrates how can we use a LLM (such as GPT-4) as a sales agent, who could potentially help customers of a store find the products they are looking for.\n",
    "\n",
    "Using the Langchain library, GPT-4, and some product data, we create a chatbot that is aware of the products that the store is selling, and with some prompt engineering we can use the chatbot as a sales agent, who works in our store, and helps customers."
   ],
   "metadata": {
    "collapsed": false
   }
  },
  {
   "cell_type": "code",
   "execution_count": 1,
   "outputs": [],
   "source": [
    "import os\n",
    "\n",
    "os.environ[\"OPENAI_API_KEY\"] = \"\""
   ],
   "metadata": {
    "collapsed": false,
    "ExecuteTime": {
     "end_time": "2023-06-02T11:27:00.293897Z",
     "start_time": "2023-06-02T11:27:00.288696Z"
    }
   }
  },
  {
   "cell_type": "markdown",
   "source": [
    "# Part 1: Prepare the data"
   ],
   "metadata": {
    "collapsed": false
   }
  },
  {
   "cell_type": "code",
   "execution_count": 2,
   "outputs": [],
   "source": [
    "from langchain.document_loaders import JSONLoader\n",
    "from langchain.embeddings import OpenAIEmbeddings\n",
    "from langchain.vectorstores import Chroma"
   ],
   "metadata": {
    "collapsed": false,
    "ExecuteTime": {
     "end_time": "2023-06-02T11:27:20.884954Z",
     "start_time": "2023-06-02T11:27:19.089642Z"
    }
   }
  },
  {
   "cell_type": "markdown",
   "source": [
    "The following steps loads the data from our local json file to a list of documents, that are embedded as vectors, and persisted in a vector store."
   ],
   "metadata": {
    "collapsed": false
   }
  },
  {
   "cell_type": "code",
   "execution_count": 3,
   "outputs": [],
   "source": [
    "loader = JSONLoader(\n",
    "        file_path='lenses.json',\n",
    "        jq_schema='.[]',\n",
    "        text_content=False\n",
    "    )\n",
    "documents = loader.load()"
   ],
   "metadata": {
    "collapsed": false,
    "ExecuteTime": {
     "end_time": "2023-06-02T11:27:21.224520Z",
     "start_time": "2023-06-02T11:27:21.178067Z"
    }
   }
  },
  {
   "cell_type": "code",
   "execution_count": 4,
   "outputs": [
    {
     "name": "stdout",
     "output_type": "stream",
     "text": [
      "20\n",
      "page_content='{\"name\": \"Orion 24mm f/1.4 Wide-Angle Lens\", \"price\": 749, \"shipping_time\": \"3-5 business days\", \"warranty\": \"2 years\", \"technical_details\": \"24mm focal length, f/1.4 maximum aperture, manual focus\", \"info\": \"The Orion 24mm f/1.4 Wide-Angle Lens is perfect for landscape and astrophotography. Its wide-angle view captures expansive scenes, and the fast f/1.4 aperture performs well in low light.\"}' metadata={'source': '/Users/dragan.apostolski/Personal/PycharmProjects/chatbots/sales_agent/lenses.json', 'seq_num': 1}\n"
     ]
    }
   ],
   "source": [
    "print(len(documents))\n",
    "print(documents[0])"
   ],
   "metadata": {
    "collapsed": false,
    "ExecuteTime": {
     "end_time": "2023-06-02T11:27:23.407936Z",
     "start_time": "2023-06-02T11:27:23.404030Z"
    }
   }
  },
  {
   "cell_type": "code",
   "execution_count": 5,
   "outputs": [
    {
     "name": "stderr",
     "output_type": "stream",
     "text": [
      "Using embedded DuckDB without persistence: data will be transient\n"
     ]
    }
   ],
   "source": [
    "embeddings = OpenAIEmbeddings()\n",
    "vector_db = Chroma.from_documents(\n",
    "    documents=documents,\n",
    "    embedding=embeddings,\n",
    "    collection_name=\"products\",\n",
    ")"
   ],
   "metadata": {
    "collapsed": false,
    "ExecuteTime": {
     "end_time": "2023-06-02T11:27:28.552398Z",
     "start_time": "2023-06-02T11:27:26.342405Z"
    }
   }
  },
  {
   "cell_type": "code",
   "execution_count": 9,
   "outputs": [
    {
     "data": {
      "text/plain": "[Document(page_content='{\"name\": \"Orion 28mm f/2 Wide Angle Lens\", \"price\": 479, \"shipping_time\": \"3-5 business days\", \"warranty\": \"2 years\", \"technical_details\": \"28mm focal length, f/2 maximum aperture, autofocus\", \"info\": \"The Orion 28mm f/2 Wide Angle Lens is suitable for landscape and street photography, providing a natural perspective and a fast aperture for low-light conditions.\"}', metadata={'source': '/Users/dragan.apostolski/Personal/PycharmProjects/chatbots/sales_agent/lenses.json', 'seq_num': 14}),\n Document(page_content='{\"name\": \"Orion 24mm f/1.4 Wide-Angle Lens\", \"price\": 749, \"shipping_time\": \"3-5 business days\", \"warranty\": \"2 years\", \"technical_details\": \"24mm focal length, f/1.4 maximum aperture, manual focus\", \"info\": \"The Orion 24mm f/1.4 Wide-Angle Lens is perfect for landscape and astrophotography. Its wide-angle view captures expansive scenes, and the fast f/1.4 aperture performs well in low light.\"}', metadata={'source': '/Users/dragan.apostolski/Personal/PycharmProjects/chatbots/sales_agent/lenses.json', 'seq_num': 1}),\n Document(page_content='{\"name\": \"Orion 50mm f/1.4 Standard Lens\", \"price\": 399, \"shipping_time\": \"3-5 business days\", \"warranty\": \"2 years\", \"technical_details\": \"50mm focal length, f/1.4 maximum aperture, autofocus\", \"info\": \"The Orion 50mm f/1.4 Standard Lens is a versatile lens for everyday photography. It\\'s great for travel, street, and portrait photography, and its wide aperture performs well in low light.\"}', metadata={'source': '/Users/dragan.apostolski/Personal/PycharmProjects/chatbots/sales_agent/lenses.json', 'seq_num': 4})]"
     },
     "execution_count": 9,
     "metadata": {},
     "output_type": "execute_result"
    }
   ],
   "source": [
    "vector_db.similarity_search(query=\"astro\", k=3)"
   ],
   "metadata": {
    "collapsed": false,
    "ExecuteTime": {
     "end_time": "2023-06-02T11:30:39.008441Z",
     "start_time": "2023-06-02T11:30:38.573006Z"
    }
   }
  }
 ],
 "metadata": {
  "kernelspec": {
   "display_name": "Python 3",
   "language": "python",
   "name": "python3"
  },
  "language_info": {
   "codemirror_mode": {
    "name": "ipython",
    "version": 2
   },
   "file_extension": ".py",
   "mimetype": "text/x-python",
   "name": "python",
   "nbconvert_exporter": "python",
   "pygments_lexer": "ipython2",
   "version": "2.7.6"
  }
 },
 "nbformat": 4,
 "nbformat_minor": 0
}
