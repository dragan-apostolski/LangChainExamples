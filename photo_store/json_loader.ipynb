{
 "cells": [
  {
   "cell_type": "code",
   "execution_count": null,
   "metadata": {
    "collapsed": true
   },
   "outputs": [],
   "source": [
    "from langchain.document_loaders import JSONLoader\n",
    "# Define the schema as a string\n",
    "schema = \"\"\"\n",
    "{\n",
    "  \"type\": \"array\",\n",
    "  \"items\": {\n",
    "    \"type\": \"object\",\n",
    "    \"properties\": {\n",
    "      \"name\": {\n",
    "        \"type\": \"string\"\n",
    "      },\n",
    "      \"price\": {\n",
    "        \"type\": \"number\"\n",
    "      },\n",
    "      \"shipping_time\": {\n",
    "        \"type\": \"string\"\n",
    "      },\n",
    "      \"warranty\": {\n",
    "        \"type\": \"string\"\n",
    "      },\n",
    "      \"technical_details\": {\n",
    "        \"type\": \"string\"\n",
    "      },\n",
    "      \"info\": {\n",
    "        \"type\": \"string\"\n",
    "      }\n",
    "    },\n",
    "    \"required\": [\"name\", \"price\", \"shipping_time\", \"warranty\", \"technical_details\", \"info\"]\n",
    "  }\n",
    "}\n",
    "\"\"\"\n",
    "\n",
    "# Load the JSON data using the JsonLoader and the schema\n",
    "loader = JSONLoader('data.json', jq_schema=schema, content_key='items', text_content=False)\n",
    "docs = loader.load_and_split()"
   ]
  },
  {
   "cell_type": "code",
   "execution_count": null,
   "outputs": [],
   "source": [
    "from langchain.indexes import VectorstoreIndexCreator\n",
    "\n",
    "index = VectorstoreIndexCreator().from_loaders([loader])"
   ],
   "metadata": {
    "collapsed": false
   }
  }
 ],
 "metadata": {
  "kernelspec": {
   "display_name": "Python 3",
   "language": "python",
   "name": "python3"
  },
  "language_info": {
   "codemirror_mode": {
    "name": "ipython",
    "version": 2
   },
   "file_extension": ".py",
   "mimetype": "text/x-python",
   "name": "python",
   "nbconvert_exporter": "python",
   "pygments_lexer": "ipython2",
   "version": "2.7.6"
  }
 },
 "nbformat": 4,
 "nbformat_minor": 0
}
